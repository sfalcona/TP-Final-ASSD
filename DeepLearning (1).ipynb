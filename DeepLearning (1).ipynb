{
 "cells": [
  {
   "cell_type": "markdown",
   "metadata": {},
   "source": [
    "# Bibliotecas"
   ]
  },
  {
   "cell_type": "code",
   "execution_count": null,
   "metadata": {},
   "outputs": [
    {
     "name": "stderr",
     "output_type": "stream",
     "text": [
      "C:\\Users\\Sebastian\\Anaconda3\\lib\\site-packages\\h5py\\__init__.py:36: FutureWarning: Conversion of the second argument of issubdtype from `float` to `np.floating` is deprecated. In future, it will be treated as `np.float64 == np.dtype(float).type`.\n",
      "  from ._conv import register_converters as _register_converters\n",
      "Using TensorFlow backend.\n"
     ]
    }
   ],
   "source": [
    "import matplotlib.pyplot as plt\n",
    "import numpy.random as rnd\n",
    "from keras.datasets import mnist\n",
    "from keras.datasets import imdb\n",
    "import numpy as np\n",
    "\n",
    "from keras import models\n",
    "from keras import layers\n",
    "from keras import optimizers\n",
    "import matplotlib.pyplot as plt"
   ]
  },
  {
   "cell_type": "markdown",
   "metadata": {},
   "source": [
    "# Edito estilo de graficos"
   ]
  },
  {
   "cell_type": "code",
   "execution_count": 34,
   "metadata": {},
   "outputs": [],
   "source": [
    "from jupyterthemes import jtplot\n",
    "\n",
    "jtplot.style(theme='onedork')\n",
    "jtplot.style(context='talk', fscale=1.4, spines=False, gridlines='--')\n",
    "jtplot.style(figsize=(20, 10))"
   ]
  },
  {
   "cell_type": "markdown",
   "metadata": {},
   "source": [
    "# Cargo dataset"
   ]
  },
  {
   "cell_type": "code",
   "execution_count": 16,
   "metadata": {},
   "outputs": [
    {
     "data": {
      "text/plain": [
       "array([   1,    2,    2,    2,    2,    2,    2,    4,    4,    4,    4,\n",
       "          4,    4,    4,    4,    4,    4,    4,    4,    4,    4,    4,\n",
       "          5,    5,    5,    5,    5,    5,    5,    5,    5,    6,    6,\n",
       "          6,    7,    7,    8,    8,    8,    9,   12,   12,   12,   12,\n",
       "         12,   12,   13,   13,   13,   14,   14,   14,   15,   15,   15,\n",
       "         15,   16,   16,   16,   16,   16,   16,   16,   16,   16,   16,\n",
       "         16,   17,   17,   17,   18,   18,   18,   19,   19,   21,   22,\n",
       "         22,   22,   22,   22,   22,   25,   25,   25,   25,   26,   26,\n",
       "         26,   28,   28,   30,   32,   32,   32,   33,   33,   35,   36,\n",
       "         36,   36,   36,   38,   38,   38,   38,   39,   43,   43,   43,\n",
       "         43,   46,   48,   50,   50,   51,   51,   52,   56,   62,   65,\n",
       "         65,   66,   66,   71,   71,   76,   77,   82,   87,   88,   88,\n",
       "         92,   98,  100,  103,  104,  104,  106,  107,  112,  112,  113,\n",
       "        117,  124,  130,  134,  135,  141,  144,  147,  150,  167,  172,\n",
       "        172,  173,  178,  192,  194,  215,  224,  226,  226,  256,  256,\n",
       "        283,  284,  297,  316,  317,  336,  381,  385,  386,  400,  407,\n",
       "        447,  458,  469,  476,  476,  480,  480,  480,  515,  530,  530,\n",
       "        530,  546,  619,  626,  670,  723,  838,  973, 1029, 1111, 1247,\n",
       "       1334, 1385, 1415, 1622, 1920, 2025, 2071, 2223, 3766, 3785, 3941,\n",
       "       4468, 4472, 4536, 4613, 5244, 5345, 5535, 5952, 7486])"
      ]
     },
     "execution_count": 16,
     "metadata": {},
     "output_type": "execute_result"
    }
   ],
   "source": [
    "\n",
    "(train_data, train_labels), (test_data, test_labels) = imdb.load_data(\n",
    "num_words=10000)\n",
    "\n",
    "np.sort(train_data[0])"
   ]
  },
  {
   "cell_type": "markdown",
   "metadata": {},
   "source": [
    "# Preparo informacion para mandar"
   ]
  },
  {
   "cell_type": "code",
   "execution_count": 17,
   "metadata": {},
   "outputs": [],
   "source": [
    "\n",
    "def vectorize_sequences(sequences, dimension=10000):\n",
    "    results = np.zeros((len(sequences), dimension))\n",
    "    for i, sequence in enumerate(sequences):\n",
    "        results[i, sequence] = 1.\n",
    "    return results\n",
    "\n",
    "x_train = vectorize_sequences(train_data)\n",
    "x_test = vectorize_sequences(test_data)\n",
    "y_train = np.asarray(train_labels).astype('float32')\n",
    "y_test = np.asarray(test_labels).astype('float32')\n"
   ]
  },
  {
   "cell_type": "markdown",
   "metadata": {},
   "source": [
    "# Creo la red y la entreno"
   ]
  },
  {
   "cell_type": "code",
   "execution_count": 62,
   "metadata": {},
   "outputs": [
    {
     "name": "stdout",
     "output_type": "stream",
     "text": [
      "Train on 15000 samples, validate on 10000 samples\n",
      "Epoch 1/20\n",
      "15000/15000 [==============================] - 4s 234us/step - loss: 0.4772 - acc: 0.7795 - val_loss: 0.3202 - val_acc: 0.8806\n",
      "Epoch 2/20\n",
      "15000/15000 [==============================] - 3s 201us/step - loss: 0.2585 - acc: 0.9059 - val_loss: 0.2810 - val_acc: 0.8890\n",
      "Epoch 3/20\n",
      "15000/15000 [==============================] - 3s 201us/step - loss: 0.1919 - acc: 0.9293 - val_loss: 0.3020 - val_acc: 0.8816\n",
      "Epoch 4/20\n",
      "15000/15000 [==============================] - 3s 200us/step - loss: 0.1392 - acc: 0.9501 - val_loss: 0.3887 - val_acc: 0.8521\n",
      "Epoch 5/20\n",
      "15000/15000 [==============================] - 3s 201us/step - loss: 0.1061 - acc: 0.9651 - val_loss: 0.3365 - val_acc: 0.8829\n",
      "Epoch 6/20\n",
      "15000/15000 [==============================] - 3s 211us/step - loss: 0.0741 - acc: 0.9765 - val_loss: 0.3635 - val_acc: 0.8773\n",
      "Epoch 7/20\n",
      "15000/15000 [==============================] - 3s 201us/step - loss: 0.0593 - acc: 0.9810 - val_loss: 0.3935 - val_acc: 0.8806\n",
      "Epoch 8/20\n",
      "15000/15000 [==============================] - 3s 201us/step - loss: 0.0507 - acc: 0.9849 - val_loss: 0.4221 - val_acc: 0.8807\n",
      "Epoch 9/20\n",
      "15000/15000 [==============================] - 3s 204us/step - loss: 0.0408 - acc: 0.9880 - val_loss: 0.4903 - val_acc: 0.8739\n",
      "Epoch 10/20\n",
      "15000/15000 [==============================] - 3s 202us/step - loss: 0.0091 - acc: 0.9992 - val_loss: 0.5035 - val_acc: 0.8780\n",
      "Epoch 11/20\n",
      "15000/15000 [==============================] - 3s 201us/step - loss: 0.0456 - acc: 0.9893 - val_loss: 0.5230 - val_acc: 0.8750\n",
      "Epoch 12/20\n",
      "15000/15000 [==============================] - 3s 201us/step - loss: 0.0034 - acc: 0.9999 - val_loss: 0.5660 - val_acc: 0.8745\n",
      "Epoch 13/20\n",
      "15000/15000 [==============================] - 3s 202us/step - loss: 0.0022 - acc: 0.9999 - val_loss: 0.6203 - val_acc: 0.8735\n",
      "Epoch 14/20\n",
      "15000/15000 [==============================] - 3s 202us/step - loss: 0.0301 - acc: 0.9911 - val_loss: 0.6420 - val_acc: 0.8708\n",
      "Epoch 15/20\n",
      "15000/15000 [==============================] - 3s 202us/step - loss: 0.0010 - acc: 1.0000 - val_loss: 0.6723 - val_acc: 0.8710\n",
      "Epoch 16/20\n",
      "15000/15000 [==============================] - 3s 204us/step - loss: 6.9795e-04 - acc: 1.0000 - val_loss: 0.7250 - val_acc: 0.8714\n",
      "Epoch 17/20\n",
      "15000/15000 [==============================] - 3s 208us/step - loss: 0.0334 - acc: 0.9919 - val_loss: 0.7919 - val_acc: 0.8687\n",
      "Epoch 18/20\n",
      "15000/15000 [==============================] - 3s 202us/step - loss: 4.0100e-04 - acc: 1.0000 - val_loss: 0.7768 - val_acc: 0.8709\n",
      "Epoch 19/20\n",
      "15000/15000 [==============================] - 3s 201us/step - loss: 2.2502e-04 - acc: 1.0000 - val_loss: 0.8039 - val_acc: 0.8715\n",
      "Epoch 20/20\n",
      "15000/15000 [==============================] - 3s 202us/step - loss: 1.5446e-04 - acc: 1.0000 - val_loss: 0.8455 - val_acc: 0.8712\n"
     ]
    }
   ],
   "source": [
    "epochs = 20\n",
    "\n",
    "model = models.Sequential()\n",
    "model.add(layers.Dense(64, activation='relu', input_shape=(10000,)))\n",
    "model.add(layers.Dense(64, activation='relu'))\n",
    "model.add(layers.Dense(1, activation='sigmoid'))\n",
    "model.compile(optimizer='rmsprop',\n",
    "                loss='binary_crossentropy',\n",
    "                metrics=['acc'])\n",
    "\n",
    "\n",
    "x_val = x_train[:10000]\n",
    "partial_x_train = x_train[10000:]\n",
    "y_val = y_train[:10000]\n",
    "partial_y_train = y_train[10000:]\n",
    "\n",
    "history = model.fit(partial_x_train,\n",
    "                    partial_y_train,\n",
    "                    epochs=epochs,\n",
    "                    batch_size=512,\n",
    "                    validation_data=(x_val, y_val))\n"
   ]
  },
  {
   "cell_type": "markdown",
   "metadata": {},
   "source": [
    "# Grafico"
   ]
  },
  {
   "cell_type": "code",
   "execution_count": 63,
   "metadata": {},
   "outputs": [
    {
     "data": {
      "image/png": "[encoded data removed]",
      "text/plain": [
       "<matplotlib.figure.Figure at 0x244e695ce48>"
      ]
     },
     "metadata": {},
     "output_type": "display_data"
    }
   ],
   "source": [
    "history_dict = history.history\n",
    "loss_values = history_dict['loss']\n",
    "val_loss_values = history_dict['val_loss']\n",
    "epoch = range(epochs)\n",
    "# plt.figure(figsize=(10,10))\n",
    "plt.subplot(121)\n",
    "plt.plot(epoch, loss_values, 'bo', label='Training loss')\n",
    "plt.plot(epoch, val_loss_values, 'b', label='Validation loss')\n",
    "plt.title('Training and validation loss')\n",
    "plt.xlabel('Epochs')\n",
    "plt.ylabel('Loss')\n",
    "plt.legend()\n",
    "# plt.show()\n",
    "\n",
    "plt.subplot(122)\n",
    "acc_values = history_dict['acc']\n",
    "val_acc_values = history_dict['val_acc']\n",
    "plt.plot(epoch, acc_values, 'bo', label='Training acc')\n",
    "plt.plot(epoch, val_acc_values, 'b', label='Validation acc')\n",
    "plt.title('Training and validation accuracy')\n",
    "plt.xlabel('Epochs')\n",
    "plt.ylabel('Val')\n",
    "plt.legend()\n",
    "\n",
    "\n",
    "plt.show()"
   ]
  },
  {
   "cell_type": "markdown",
   "metadata": {},
   "source": [
    "# Usando CNN"
   ]
  },
  {
   "cell_type": "code",
   "execution_count": 65,
   "metadata": {},
   "outputs": [
    {
     "name": "stdout",
     "output_type": "stream",
     "text": [
      "Train on 60000 samples, validate on 10000 samples\n",
      "Epoch 1/10\n",
      "60000/60000 [==============================] - 143s 2ms/step - loss: 0.3875 - acc: 0.8820 - val_loss: 0.0901 - val_acc: 0.9714\n",
      "Epoch 2/10\n",
      "60000/60000 [==============================] - 142s 2ms/step - loss: 0.0992 - acc: 0.9698 - val_loss: 0.0558 - val_acc: 0.9823\n",
      "Epoch 3/10\n",
      "60000/60000 [==============================] - 142s 2ms/step - loss: 0.0729 - acc: 0.9772 - val_loss: 0.0405 - val_acc: 0.9871\n",
      "Epoch 4/10\n",
      "60000/60000 [==============================] - 142s 2ms/step - loss: 0.0596 - acc: 0.9815 - val_loss: 0.0359 - val_acc: 0.9879\n",
      "Epoch 5/10\n",
      "60000/60000 [==============================] - 141s 2ms/step - loss: 0.0511 - acc: 0.9840 - val_loss: 0.0350 - val_acc: 0.9889\n",
      "Epoch 6/10\n",
      "60000/60000 [==============================] - 140s 2ms/step - loss: 0.0439 - acc: 0.9861 - val_loss: 0.0284 - val_acc: 0.9913\n",
      "Epoch 7/10\n",
      "60000/60000 [==============================] - 140s 2ms/step - loss: 0.0384 - acc: 0.9878 - val_loss: 0.0300 - val_acc: 0.9902\n",
      "Epoch 8/10\n",
      "60000/60000 [==============================] - 139s 2ms/step - loss: 0.0352 - acc: 0.9886 - val_loss: 0.0266 - val_acc: 0.9908\n",
      "Epoch 9/10\n",
      "60000/60000 [==============================] - 142s 2ms/step - loss: 0.0321 - acc: 0.9899 - val_loss: 0.0235 - val_acc: 0.9931\n",
      "Epoch 10/10\n",
      "60000/60000 [==============================] - 139s 2ms/step - loss: 0.0299 - acc: 0.9902 - val_loss: 0.0291 - val_acc: 0.9908\n",
      "Large CNN Error: 0.92%\n"
     ]
    }
   ],
   "source": [
    "import numpy\n",
    "from keras.datasets import mnist\n",
    "from keras.models import Sequential\n",
    "from keras.layers import Dense\n",
    "from keras.layers import Dropout\n",
    "from keras.layers import Flatten\n",
    "from keras.layers.convolutional import Conv2D\n",
    "from keras.layers.convolutional import MaxPooling2D\n",
    "from keras.utils import np_utils\n",
    "from keras import backend as K\n",
    "K.set_image_dim_ordering('th')\n",
    "# fix random seed for reproducibility\n",
    "seed = 7\n",
    "numpy.random.seed(seed)\n",
    "# load data\n",
    "(X_train, y_train), (X_test, y_test) = mnist.load_data()\n",
    "# reshape to be [samples][pixels][width][height]\n",
    "X_train = X_train.reshape(X_train.shape[0], 1, 28, 28).astype('float32')\n",
    "X_test = X_test.reshape(X_test.shape[0], 1, 28, 28).astype('float32')\n",
    "# normalize inputs from 0-255 to 0-1\n",
    "X_train = X_train / 255\n",
    "X_test = X_test / 255\n",
    "# one hot encode outputs\n",
    "y_train = np_utils.to_categorical(y_train)\n",
    "y_test = np_utils.to_categorical(y_test)\n",
    "num_classes = y_test.shape[1]\n",
    "\n",
    "\n",
    "def larger_model():\n",
    "    # create model\n",
    "    model = Sequential()\n",
    "    model.add(Conv2D(30, (5, 5), input_shape=(1, 28, 28), activation='relu'))\n",
    "    model.add(MaxPooling2D(pool_size=(2, 2)))\n",
    "    model.add(Conv2D(15, (3, 3), activation='relu'))\n",
    "    model.add(MaxPooling2D(pool_size=(2, 2)))\n",
    "    model.add(Dropout(0.2))\n",
    "    model.add(Flatten())\n",
    "    model.add(Dense(128, activation='relu'))\n",
    "    model.add(Dense(50, activation='relu'))\n",
    "    model.add(Dense(num_classes, activation='softmax'))\n",
    "    # Compile model\n",
    "    model.compile(loss='categorical_crossentropy', optimizer='adam', metrics=['accuracy'])\n",
    "    return model\n",
    "\n",
    "\n",
    "# build the model\n",
    "model = larger_model()\n",
    "# Fit the model\n",
    "model.fit(X_train, y_train, validation_data=(X_test, y_test), epochs=10, batch_size=200)\n",
    "# Final evaluation of the model\n",
    "scores = model.evaluate(X_test, y_test, verbose=0)\n",
    "print(\"Large CNN Error: %.2f%%\" % (100-scores[1]*100))\n",
    "\n"
   ]
  },
  {
   "cell_type": "code",
   "execution_count": null,
   "metadata": {},
   "outputs": [],
   "source": [
    "import numpy\n",
    "from keras.datasets import mnist\n",
    "from keras.models import Sequential\n",
    "from keras.layers import Dense\n",
    "from keras.layers import Dropout\n",
    "from keras.layers import Flatten\n",
    "from keras.layers.convolutional import Conv2D\n",
    "from keras.layers.convolutional import MaxPooling2D\n",
    "from keras.utils import np_utils\n",
    "from keras import backend as K"
   ]
  },
  {
   "cell_type": "markdown",
   "metadata": {},
   "source": [
    "# Pruebo la red"
   ]
  },
  {
   "cell_type": "code",
   "execution_count": null,
   "metadata": {},
   "outputs": [],
   "source": [
    "pic = np.random.randint(10000)\n",
    "\n",
    "plt.imshow(X_train[pic][0], cmap = \"Greys\")\n",
    "test = (model.predict(X_train[pic].reshape(1,1,28,28)))\n",
    "\n",
    "print(test.argmax())"
   ]
  },
  {
   "cell_type": "code",
   "execution_count": 129,
   "metadata": {},
   "outputs": [
    {
     "name": "stdout",
     "output_type": "stream",
     "text": [
      "63\n"
     ]
    }
   ],
   "source": [
    "a = [2,3,3,3,3,3,3,3,3]\n",
    "b = np.asarray([a,a,a,a,a,a,a])\n",
    "print(b.size)\n"
   ]
  }
 ],
 "metadata": {
  "kernelspec": {
   "display_name": "Python 3",
   "language": "python",
   "name": "python3"
  },
  "language_info": {
   "codemirror_mode": {
    "name": "ipython",
    "version": 3
   },
   "file_extension": ".py",
   "mimetype": "text/x-python",
   "name": "python",
   "nbconvert_exporter": "python",
   "pygments_lexer": "ipython3",
   "version": "3.6.4"
  }
 },
 "nbformat": 4,
 "nbformat_minor": 2
}
